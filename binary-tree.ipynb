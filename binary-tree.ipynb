{
 "metadata": {
  "name": "binary-tree"
 },
 "nbformat": 3,
 "nbformat_minor": 0,
 "worksheets": [
  {
   "cells": [
    {
     "cell_type": "code",
     "collapsed": false,
     "input": [
      "class BinaryTree(object):\n",
      "\t\"\"\"Naive implementation of an unbalanced binary search tree.\n",
      "    Based off of Tim Roughgarden coursera specs\n",
      "    This is really bad.\"\"\"\n",
      "\n",
      "    def __init__(self, root):\n",
      "\t    self.root = BinaryNode(root, None)\n",
      "\t\t# Root\n",
      "\n",
      "\tdef search(self, key):\n",
      "\t\tcurrent = self.root\n",
      "\n",
      "\t\twhile current._key != None:\n",
      "\t\t\tif key < current._key:\n",
      "\t\t\t\tcurrent = current.left\n",
      "\t\t\telif key > current._key:\n",
      "\t\t\t\tcurrent = current.right\n",
      "\t\t\telif key == current._key:\n",
      "\t\t\t\treturn True\n",
      "\t\treturn False\n",
      "\n",
      "\n",
      "    def insert(self, new):\n",
      "\t\tif self.search(new):\n",
      "\t\t\treturn\n",
      "\t\telse:\n",
      "\t\t\tif new < current._key:\n",
      "\t\t\t\tcurrent.left_child(key)\n",
      "\t\t\telif new > current._key:\n",
      "\t\t\t\tcurrent.right_child(key)\n",
      "\n",
      "        print \"Oh noes\"\n",
      "\n",
      "    def deletion(self, remove):\n",
      "\t\tpass\n",
      "\n",
      "    def find_min(self):\n",
      "\t\tpass\n",
      "\n",
      "    def find_max(self):\n",
      "\t\tpass\n",
      "\n",
      "    def find_predecessor(self, key):\n",
      "\t\tpass\n",
      "\n",
      "    def rank(self, key):\n",
      "\t\tpass\n",
      "\n",
      "class BinaryNode(object):\n",
      "\t\"\"\"Helper class that implements nodes\"\"\"\n",
      "\n",
      "    def __init__(self, key, parent):\n",
      "\t\tself._key = key\n",
      "\t\tself.parent = parent\n",
      "\t\tself.left = None\n",
      "\t\tself.right = None\n",
      "\t\t# Key should never be mutated\n",
      "\n",
      "    def left_child(self, child):\n",
      "\t\tself.left = child\n",
      "\n",
      "\tdef right_child(self, child):\n",
      "\t\tself.right = child"
     ],
     "language": "python",
     "metadata": {},
     "outputs": [
      {
       "ename": "IndentationError",
       "evalue": "unindent does not match any outer indentation level (<ipython-input-6-805ba56c8d85>, line 6)",
       "output_type": "pyerr",
       "traceback": [
        "\u001b[1;36m  File \u001b[1;32m\"<ipython-input-6-805ba56c8d85>\"\u001b[1;36m, line \u001b[1;32m6\u001b[0m\n\u001b[1;33m    def __init__(self, root):\u001b[0m\n\u001b[1;37m                             ^\u001b[0m\n\u001b[1;31mIndentationError\u001b[0m\u001b[1;31m:\u001b[0m unindent does not match any outer indentation level\n"
       ]
      }
     ],
     "prompt_number": 6
    },
    {
     "cell_type": "code",
     "collapsed": false,
     "input": [
      "from nose import *\n",
      "\n",
      "test_tree = BinaryTree(2)\n",
      "BinaryTree.search(2)"
     ],
     "language": "python",
     "metadata": {},
     "outputs": []
    },
    {
     "cell_type": "code",
     "collapsed": false,
     "input": [],
     "language": "python",
     "metadata": {},
     "outputs": []
    }
   ],
   "metadata": {}
  }
 ]
}